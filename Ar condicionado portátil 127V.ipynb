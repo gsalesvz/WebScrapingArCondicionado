{
 "cells": [
  {
   "cell_type": "code",
   "execution_count": 1,
   "id": "ac3120a3-e279-4d34-9f3d-3f52ac659c2d",
   "metadata": {},
   "outputs": [],
   "source": [
    "import pandas as pd\n",
    "from urllib.request import urlopen\n",
    "from bs4 import BeautifulSoup\n",
    "from datetime import date\n",
    "import os\n",
    "import time\n",
    "\n",
    "from selenium import webdriver\n",
    "from selenium.webdriver.common.by import By\n",
    "from selenium.webdriver.chrome.service import Service\n",
    "from webdriver_manager.chrome import ChromeDriverManager"
   ]
  },
  {
   "cell_type": "code",
   "execution_count": 2,
   "id": "0616d829-e38a-4ed0-a110-ce373077c995",
   "metadata": {},
   "outputs": [],
   "source": [
    "#Cria o DataFrame para populá-lo depois\n",
    "dfAr = pd.DataFrame()"
   ]
  },
  {
   "cell_type": "code",
   "execution_count": 3,
   "id": "b6f4df8a-c5b1-4eb4-bcc0-6b8fd4ff7aeb",
   "metadata": {},
   "outputs": [],
   "source": [
    "service = Service(ChromeDriverManager().install())"
   ]
  },
  {
   "cell_type": "code",
   "execution_count": 4,
   "id": "7c110e46-c598-49c5-8189-3b4ea1510bd7",
   "metadata": {},
   "outputs": [],
   "source": [
    "driver = webdriver.Chrome(service=service)"
   ]
  },
  {
   "cell_type": "code",
   "execution_count": 5,
   "id": "2651fc85-2841-4511-8a9e-bd19f784cd1d",
   "metadata": {},
   "outputs": [],
   "source": [
    "#Site da Leveros\n",
    "driver.get(\"https://www.leveros.com.br/ar-condicionado-portatil-philco-pac12000f5-12-000-btus-so-frio-127v\")\n",
    "#Configurando um timeout para esperar a página carregar\n",
    "driver.implicitly_wait(20)"
   ]
  },
  {
   "cell_type": "code",
   "execution_count": 6,
   "id": "b3c7fa8a-c6d0-447c-bf41-0bbc1228da2b",
   "metadata": {},
   "outputs": [],
   "source": [
    "#É importante manter esses códigos à parte, para o site não bloquear requisições por conta de muitos acessos à página\n",
    "html = driver.page_source\n",
    "bs = BeautifulSoup(html, 'html.parser')"
   ]
  },
  {
   "cell_type": "code",
   "execution_count": 7,
   "id": "3f9622e3-289e-4582-8df3-9edf463cb6d2",
   "metadata": {},
   "outputs": [
    {
     "name": "stdout",
     "output_type": "stream",
     "text": [
      "      Site     Tipo   Preço  Preço à vista        Data\n",
      "0  Leveros  Só Frio  3259.0         2933.1  2024-07-11\n"
     ]
    }
   ],
   "source": [
    "try:\n",
    "    #Separa o valor entre os spans do elemento encontrado\n",
    "    valor = bs.find('p', {'class': 'available-state__or-installment'}).find_all('span')[1].text\n",
    "    #Prepara a string para poder ser convertida para tipo float\n",
    "    valor = valor.replace('R$\\xa0', '').replace('.', '').replace(',','.')\n",
    "    valor = float(valor)\n",
    "    \n",
    "    avista = bs.find('div', {'class': 'available-state__to-price'}).find('p').text\n",
    "    avista = avista.replace('R$\\xa0', '').replace('.', '').replace(',','.')\n",
    "    avista = float(avista)\n",
    "\n",
    "    #Adiciona o valor no DataFrame\n",
    "    dfAr = dfAr._append({'Site': 'Leveros', 'Tipo': 'Só Frio', 'Preço': valor, 'Preço à vista': avista, 'Data': date.today()}, ignore_index=True)\n",
    "except:\n",
    "    #Adiciona o valor no DataFrame\n",
    "    dfAr = dfAr._append({'Site': 'Leveros', 'Tipo': 'Só Frio', 'Preço': None, 'Preço à vista': None, 'Data': date.today()}, ignore_index=True)\n",
    "finally:\n",
    "    print(dfAr)"
   ]
  },
  {
   "cell_type": "code",
   "execution_count": 8,
   "id": "f2858731-d53d-40d6-803d-cdddc311611c",
   "metadata": {},
   "outputs": [],
   "source": [
    "#Site da Magalu\n",
    "driver.get(\"https://www.magazineluiza.com.br/ar-condicionado-portatil-philco-pac12000f5-12-000-btus-so-frio-127v/p/cddh46ke3c/ar/arpr/\")\n",
    "#Configurando um timeout para esperar a página carregar\n",
    "driver.implicitly_wait(20)"
   ]
  },
  {
   "cell_type": "code",
   "execution_count": 9,
   "id": "c94d68c8-f2a8-419c-8022-9096f907fc9a",
   "metadata": {},
   "outputs": [],
   "source": [
    "html = driver.page_source\n",
    "bs = BeautifulSoup(html, 'html.parser')"
   ]
  },
  {
   "cell_type": "code",
   "execution_count": 10,
   "id": "7ad7bffb-59a8-4645-9435-4944d6a0ebcb",
   "metadata": {},
   "outputs": [
    {
     "name": "stdout",
     "output_type": "stream",
     "text": [
      "             Site     Tipo   Preço  Preço à vista        Data\n",
      "0         Leveros  Só Frio  3259.0        2933.10  2024-07-11\n",
      "1  Magazine Luiza  Só Frio  3259.0        2998.28  2024-07-11\n"
     ]
    }
   ],
   "source": [
    "try:\n",
    "    valor = bs.find('div', {'data-testid': 'product-price'}).find('p', {'data-testid': 'price-original'}).text\n",
    "    valor = valor.replace('R$\\xa0', '').replace('.', '').replace(',','.')\n",
    "    valor = float(valor)\n",
    "    \n",
    "    avista = bs.find('div', {'data-testid': 'product-price'}).find('p', {'data-testid': 'price-value'}).text\n",
    "    avista = avista.replace('R$\\xa0', '').replace('.', '').replace(',','.')\n",
    "    avista = float(avista)\n",
    "    \n",
    "    dfAr = dfAr._append({'Site': 'Magazine Luiza', 'Tipo': 'Só Frio', 'Preço': valor, 'Preço à vista': avista, 'Data': date.today()}, ignore_index=True)\n",
    "except:\n",
    "    dfAr = dfAr._append({'Site': 'Magazine Luiza', 'Tipo': 'Só Frio', 'Preço': None, 'Preço à vista': None, 'Data': date.today()}, ignore_index=True)\n",
    "finally:\n",
    "    print(dfAr)"
   ]
  },
  {
   "cell_type": "code",
   "execution_count": 11,
   "id": "bcddd0fb-6b25-4748-9739-c5924b9f1591",
   "metadata": {},
   "outputs": [],
   "source": [
    "#Site da Frigelar\n",
    "driver.get(\"https://www.frigelar.com.br/ar-condicionado-portatil-12000-btus-philco-virus-protect-frio-branco-pac12000f5-110v/p/kit9378\")\n",
    "#Configurando um timeout para esperar a página carregar (esse timeout teve que ser diferente porque o implicit não esperava o suficiente)\n",
    "time.sleep(5)"
   ]
  },
  {
   "cell_type": "code",
   "execution_count": 12,
   "id": "55274915-8968-4469-8629-a63244256aec",
   "metadata": {},
   "outputs": [],
   "source": [
    "html = driver.page_source\n",
    "bs = BeautifulSoup(html, 'html.parser')"
   ]
  },
  {
   "cell_type": "code",
   "execution_count": 13,
   "id": "d442020e-606a-4f63-a3bf-567d467029ee",
   "metadata": {},
   "outputs": [
    {
     "name": "stdout",
     "output_type": "stream",
     "text": [
      "             Site     Tipo   Preço  Preço à vista        Data\n",
      "0         Leveros  Só Frio  3259.0        2933.10  2024-07-11\n",
      "1  Magazine Luiza  Só Frio  3259.0        2998.28  2024-07-11\n",
      "2        Frigelar  Só Frio  2989.0        3321.11  2024-07-11\n"
     ]
    }
   ],
   "source": [
    "try:\n",
    "    valor = bs.find('meta', {'property': 'sale_price'})['content']\n",
    "    valor = float(valor)\n",
    "    \n",
    "    avista = bs.find('meta', {'property': 'product:price:amount'})['content']\n",
    "    avista = float(avista)\n",
    "    \n",
    "    dfAr = dfAr._append({'Site': 'Frigelar', 'Tipo': 'Só Frio', 'Preço': valor, 'Preço à vista': avista, 'Data': date.today()}, ignore_index=True)\n",
    "except:\n",
    "    dfAr = dfAr._append({'Site': 'Frigelar', 'Tipo': 'Só Frio', 'Preço': None, 'Preço à vista': None, 'Data': date.today()}, ignore_index=True)\n",
    "finally:\n",
    "    print(dfAr)"
   ]
  },
  {
   "cell_type": "code",
   "execution_count": 14,
   "id": "577349fb-b4e4-4809-a41d-77cc045682f2",
   "metadata": {},
   "outputs": [],
   "source": [
    "#Site do Carrefour\n",
    "driver.get('https://www.carrefour.com.br/arcondicionado-portatil-philco-pac12000f5-12000-btus-so-frio-127v-mp935194627/p')\n",
    "#Configurando um timeout para esperar a página carregar\n",
    "driver.implicitly_wait(20)"
   ]
  },
  {
   "cell_type": "code",
   "execution_count": 15,
   "id": "79c652cc-2fd4-463d-a497-312224e7ba73",
   "metadata": {},
   "outputs": [],
   "source": [
    "html = driver.page_source\n",
    "bs = BeautifulSoup(html, 'html.parser')"
   ]
  },
  {
   "cell_type": "code",
   "execution_count": 16,
   "id": "f155ff12-42c9-4b1e-9a99-0d0463b08e55",
   "metadata": {},
   "outputs": [
    {
     "name": "stdout",
     "output_type": "stream",
     "text": [
      "             Site     Tipo   Preço  Preço à vista        Data\n",
      "0         Leveros  Só Frio  3259.0        2933.10  2024-07-11\n",
      "1  Magazine Luiza  Só Frio  3259.0        2998.28  2024-07-11\n",
      "2        Frigelar  Só Frio  2989.0        3321.11  2024-07-11\n",
      "3       Carrefour  Só Frio  3259.0        3259.00  2024-07-11\n"
     ]
    }
   ],
   "source": [
    "try:\n",
    "    valor = bs.find('meta', {'property': 'product:price:amount'})['content']\n",
    "    valor = float(valor)\n",
    "\n",
    "    avista = valor\n",
    "\n",
    "    dfAr = dfAr._append({'Site': 'Carrefour', 'Tipo': 'Só Frio', 'Preço': valor, 'Preço à vista': avista, 'Data': date.today()}, ignore_index=True)\n",
    "except:\n",
    "    dfAr = dfAr._append({'Site': 'Carrefour', 'Tipo': 'Só Frio', 'Preço': None, 'Preço à vista': None, 'Data': date.today()}, ignore_index=True)\n",
    "finally:\n",
    "    print(dfAr)"
   ]
  },
  {
   "cell_type": "code",
   "execution_count": 17,
   "id": "f27fc0f1-1266-4a8f-8212-902f6679d082",
   "metadata": {},
   "outputs": [],
   "source": [
    "#Site das Casas Bahia\n",
    "driver.get('https://www.casasbahia.com.br/ar-condicionado-portatil-philco-pac12000f5-12000-btus-so-frio-127v-1562329817/p/1562329817')\n",
    "#Configurando um timeout para esperar a página carregar\n",
    "driver.implicitly_wait(20)"
   ]
  },
  {
   "cell_type": "code",
   "execution_count": 18,
   "id": "3cac757d-3b86-4ff5-8dc7-db58ae764977",
   "metadata": {},
   "outputs": [],
   "source": [
    "html = driver.page_source\n",
    "bs = BeautifulSoup(html, 'html.parser')"
   ]
  },
  {
   "cell_type": "code",
   "execution_count": 19,
   "id": "470e9d9c-3f9c-482a-b046-b5aa2b125481",
   "metadata": {},
   "outputs": [
    {
     "name": "stdout",
     "output_type": "stream",
     "text": [
      "             Site     Tipo   Preço  Preço à vista        Data\n",
      "0         Leveros  Só Frio  3259.0        2933.10  2024-07-11\n",
      "1  Magazine Luiza  Só Frio  3259.0        2998.28  2024-07-11\n",
      "2        Frigelar  Só Frio  2989.0        3321.11  2024-07-11\n",
      "3       Carrefour  Só Frio  3259.0        3259.00  2024-07-11\n",
      "4     Casas Bahia  Só Frio  3259.0        2933.10  2024-07-11\n"
     ]
    }
   ],
   "source": [
    "try:\n",
    "    valor = bs.find('p', {'data-testid': 'installment-description'}).find('span').find_all('span')[1].text\n",
    "    valor = valor.replace('R$\\xa0', '').replace('.','').replace(',','.')\n",
    "    valor = float(valor)\n",
    "    \n",
    "    avista = bs.find('p', {'data-testid': 'product-price-value'}).find_all('span')[1].text\n",
    "    avista = avista.replace('R$\\xa0', '').replace('.','').replace(',','.')\n",
    "    avista = float(avista)\n",
    "\n",
    "    dfAr = dfAr._append({'Site': 'Casas Bahia', 'Tipo': 'Só Frio', 'Preço': valor, 'Preço à vista': avista, 'Data': date.today()}, ignore_index=True)\n",
    "except:\n",
    "    dfAr = dfAr._append({'Site': 'Casas Bahia', 'Tipo': 'Só Frio', 'Preço': None, 'Preço à vista': None, 'Data': date.today()}, ignore_index=True)\n",
    "finally:\n",
    "    print(dfAr)"
   ]
  },
  {
   "cell_type": "code",
   "execution_count": 20,
   "id": "6477c5d1-b503-4c77-b1bc-8a1b2357e558",
   "metadata": {},
   "outputs": [],
   "source": [
    "#Site da Amazon\n",
    "driver.get('https://www.amazon.com.br/Ar-Condicionado-Port%C3%A1til-Philco-PAC12000F5-12-000/dp/B0CKS3NZJY/ref=asc_df_B0CKS3NZJY/')\n",
    "#Configurando um timeout para esperar a página carregar\n",
    "driver.implicitly_wait(20)"
   ]
  },
  {
   "cell_type": "code",
   "execution_count": 21,
   "id": "490207b7-8b05-4244-be37-3ef90dc76fb0",
   "metadata": {},
   "outputs": [],
   "source": [
    "html = driver.page_source\n",
    "bs = BeautifulSoup(html, 'html.parser')"
   ]
  },
  {
   "cell_type": "code",
   "execution_count": 22,
   "id": "f1c9f4df-f574-4b71-a5f2-851e8aaa3410",
   "metadata": {},
   "outputs": [
    {
     "name": "stdout",
     "output_type": "stream",
     "text": [
      "             Site     Tipo   Preço  Preço à vista        Data\n",
      "0         Leveros  Só Frio  3259.0        2933.10  2024-07-11\n",
      "1  Magazine Luiza  Só Frio  3259.0        2998.28  2024-07-11\n",
      "2        Frigelar  Só Frio  2989.0        3321.11  2024-07-11\n",
      "3       Carrefour  Só Frio  3259.0        3259.00  2024-07-11\n",
      "4     Casas Bahia  Só Frio  3259.0        2933.10  2024-07-11\n",
      "5          Amazon  Só Frio  3259.0        3259.00  2024-07-11\n"
     ]
    }
   ],
   "source": [
    "try:   \n",
    "    valor = bs.find('input', {'id': 'attach-base-product-price'})['value']\n",
    "    valor = float(valor)\n",
    "    \n",
    "    avista = valor\n",
    "\n",
    "    dfAr = dfAr._append({'Site': 'Amazon', 'Tipo': 'Só Frio', 'Preço': valor, 'Preço à vista': avista, 'Data': date.today()}, ignore_index=True)\n",
    "except:\n",
    "    dfAr = dfAr._append({'Site': 'Amazon', 'Tipo': 'Só Frio', 'Preço': None, 'Preço à vista': None, 'Data': date.today()}, ignore_index=True)\n",
    "finally:\n",
    "    print(dfAr)"
   ]
  },
  {
   "cell_type": "code",
   "execution_count": 23,
   "id": "6df23713-22bf-48d8-a787-40a5e13a6304",
   "metadata": {},
   "outputs": [],
   "source": [
    "#Fecha o navegador\n",
    "driver.quit()"
   ]
  },
  {
   "cell_type": "code",
   "execution_count": 24,
   "id": "c5860b96-4aed-4e3b-b25e-da9d790ad870",
   "metadata": {},
   "outputs": [],
   "source": [
    "#Verifica se o arquivo já existe, e se já existe, só adiciona os valores encontrados no dia de hoje\n",
    "if os.path.isfile('ArCondicionado.csv'):\n",
    "    dfAr.to_csv('ArCondicionado.csv', mode='a', sep=',', encoding='utf-8', index=False)\n",
    "else:\n",
    "    dfAr.to_csv('ArCondicionado.csv', sep=',', encoding='utf-8', index=False)    "
   ]
  }
 ],
 "metadata": {
  "kernelspec": {
   "display_name": "Python 3 (ipykernel)",
   "language": "python",
   "name": "python3"
  },
  "language_info": {
   "codemirror_mode": {
    "name": "ipython",
    "version": 3
   },
   "file_extension": ".py",
   "mimetype": "text/x-python",
   "name": "python",
   "nbconvert_exporter": "python",
   "pygments_lexer": "ipython3",
   "version": "3.11.7"
  }
 },
 "nbformat": 4,
 "nbformat_minor": 5
}
